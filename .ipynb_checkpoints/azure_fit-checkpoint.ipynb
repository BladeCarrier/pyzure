{
 "metadata": {
  "name": "",
  "signature": "sha256:f39c25f172557b893c640e9bffd38e933598763423e08426ce5dc8ee464c2f49"
 },
 "nbformat": 3,
 "nbformat_minor": 0,
 "worksheets": [
  {
   "cells": [
    {
     "cell_type": "code",
     "collapsed": false,
     "input": [
      "#\u041f\u0440\u0435\u043a\u0432\u0435\u0437\u0438\u0442\u044b: \n",
      "#selenium (pip install selenium)\n",
      "#pandas (pip install pandas)\n",
      "#\u0441\u043a\u043e\u043c\u043f\u0438\u043b\u0438\u0440\u043e\u0432\u0430\u043d\u043d\u044b\u0439 PhantomJS \u0438\u043b\u0438 Firefox\n",
      "#\u0415\u0421\u041b\u0418 \u0443 \u0432\u0430\u0441 \u043d\u0435\u0442 \u043c\u043e\u043d\u0438\u0442\u043e\u0440\u0430, Xvfb (sudo apt-get install xvfb)\n",
      "\n",
      "#\u043f\u043e\u043b\u043d\u044b\u0439-\u0434\u0435\u0442\u0430\u043b\u044c\u043d\u044b\u0439 \u043f\u0440\u043e\u0446\u0435\u0441\u0441 \u0443\u0441\u0442\u0430\u043d\u043e\u0432\u043a\u0438 \u0438\u0437 Ubuntu:\n",
      "#pip install selenium\n",
      "#pip install pandas\n",
      "#sudo apt-get update\n",
      "#sudo apt-get install firefox\n",
      "#sudo apt-get install xvfb\n",
      "#cd path_to_notebooks\n",
      "#git clone https://github.com/BladeCarrier/pyzure\n",
      "#\u0437\u0430\u043f\u0443\u0441\u0442\u0438\u0442\u044c \u0442\u0435\u0442\u0440\u0430\u0434\u043a\u0443"
     ],
     "language": "python",
     "metadata": {},
     "outputs": [],
     "prompt_number": 1
    },
    {
     "cell_type": "code",
     "collapsed": false,
     "input": [
      "from sklearn.datasets import load_iris\n",
      "from sklearn.metrics import accuracy_score\n",
      "from sklearn.cross_validation import train_test_split\n",
      "#\u0415\u0441\u043b\u0438 \u0443 \u0412\u0430\u0441 \u043d\u0435\u0442\u0443 \u043c\u043e\u043d\u0438\u0442\u043e\u0440\u0430...\n",
      "import os\n",
      "if os.getenv(\"DISPLAY\") is None:\n",
      "    os.system(\"Xvfb :10 -ac -screen 0 1600x1200x24+32 &\") #\u0442\u043e \u043e\u043d \u0443 \u0412\u0430\u0441 \u0435\u0441\u0442\u044c. \u041e\u0444\u0438\u0433\u0435\u043d\u043d\u0430\u044f \u043f\u043b\u0430\u0437\u043c\u0430 \u0432\u043e \u0432\u0441\u044e \u0432\u0438\u0440\u0442\u0443\u0430\u043b\u044c\u043d\u0443\u044e \u0441\u0442\u0435\u043d\u0443\n",
      "    %env DISPLAY=:10"
     ],
     "language": "python",
     "metadata": {},
     "outputs": [],
     "prompt_number": 2
    },
    {
     "cell_type": "code",
     "collapsed": false,
     "input": [
      "iris = load_iris()\n",
      "X = iris.data\n",
      "y = iris.target\n",
      "Xtr,Xts,Ytr,Yts = train_test_split(X,y,test_size = 0.5)"
     ],
     "language": "python",
     "metadata": {},
     "outputs": [],
     "prompt_number": 3
    },
    {
     "cell_type": "code",
     "collapsed": false,
     "input": [
      "import model as wr"
     ],
     "language": "python",
     "metadata": {},
     "outputs": [],
     "prompt_number": 4
    },
    {
     "cell_type": "code",
     "collapsed": false,
     "input": [
      "model = wr.models.rf\n",
      "#supports all models, just select \"Classification\" or \"Regression\", than specify model name as in AzureML studio\n",
      "print model"
     ],
     "language": "python",
     "metadata": {},
     "outputs": [
      {
       "output_type": "stream",
       "stream": "stdout",
       "text": [
        "Model(type='Classification', name='Multiclass Decision Forest', args={})\n"
       ]
      }
     ],
     "prompt_number": 5
    },
    {
     "cell_type": "code",
     "collapsed": false,
     "input": [
      "azure = wr.Azure_model(login = \"sasha_panin@mail.ru\",\n",
      "               password=\"243414\",\n",
      "               model=model)"
     ],
     "language": "python",
     "metadata": {},
     "outputs": [
      {
       "output_type": "stream",
       "stream": "stdout",
       "text": [
        "signing in...\n",
        "signed in as"
       ]
      },
      {
       "output_type": "stream",
       "stream": "stdout",
       "text": [
        " sasha_panin@mail.ru\n"
       ]
      }
     ],
     "prompt_number": 6
    },
    {
     "cell_type": "code",
     "collapsed": false,
     "input": [
      "azure.fit(Xtr,Ytr)"
     ],
     "language": "python",
     "metadata": {},
     "outputs": [
      {
       "output_type": "stream",
       "stream": "stdout",
       "text": [
        "adding dataset from C:\\Users\\ayanami\\Documents\\IPython Notebooks\\pyzure\\_tmp_data\n",
        "could not add new dataset, trying to overwrite..."
       ]
      },
      {
       "output_type": "stream",
       "stream": "stdout",
       "text": [
        "\n",
        "adding dataset from C:\\Users\\ayanami\\Documents\\IPython Notebooks\\pyzure\\_tmp_data\n",
        "waiting for file to upload"
       ]
      },
      {
       "output_type": "stream",
       "stream": "stdout",
       "text": [
        "\n",
        "_tmp_data"
       ]
      },
      {
       "output_type": "stream",
       "stream": "stdout",
       "text": [
        " dataset added\n",
        "creating new experiment\n",
        "created experiment with name:"
       ]
      },
      {
       "output_type": "stream",
       "stream": "stdout",
       "text": [
        " _tmp_experiment\n",
        "deploying machinelearning model experiment\n",
        "dataset"
       ]
      },
      {
       "output_type": "stream",
       "stream": "stdout",
       "text": [
        " _tmp_data deployed\n",
        "Multiclass Decision Forest"
       ]
      },
      {
       "output_type": "stream",
       "stream": "stdout",
       "text": [
        " deployed\n",
        "trainer deployed"
       ]
      },
      {
       "output_type": "stream",
       "stream": "stdout",
       "text": [
        "\n",
        "_label"
       ]
      },
      {
       "output_type": "stream",
       "stream": "stdout",
       "text": [
        " selected as target column\n",
        "scorer deployed"
       ]
      },
      {
       "output_type": "stream",
       "stream": "stdout",
       "text": [
        "\n",
        "deployed service"
       ]
      },
      {
       "output_type": "stream",
       "stream": "stdout",
       "text": [
        " Input\n",
        "deployed service"
       ]
      },
      {
       "output_type": "stream",
       "stream": "stdout",
       "text": [
        " Output\n",
        "wiring elements"
       ]
      },
      {
       "output_type": "stream",
       "stream": "stdout",
       "text": [
        "\n",
        "experiment deployment finished"
       ]
      },
      {
       "output_type": "stream",
       "stream": "stdout",
       "text": [
        "\n",
        "Running...\n",
        "Creating scoring experiment..."
       ]
      },
      {
       "output_type": "stream",
       "stream": "stdout",
       "text": [
        "\n",
        "Running..."
       ]
      },
      {
       "output_type": "stream",
       "stream": "stdout",
       "text": [
        "\n",
        "Publishing..."
       ]
      },
      {
       "output_type": "stream",
       "stream": "stdout",
       "text": [
        "\n",
        "waiting in case Microsoft delays experiment publishing..."
       ]
      },
      {
       "output_type": "stream",
       "stream": "stdout",
       "text": [
        "\n"
       ]
      },
      {
       "metadata": {},
       "output_type": "pyout",
       "prompt_number": 7,
       "text": [
        "<model.Azure_model instance at 0x0000000016E14248>"
       ]
      }
     ],
     "prompt_number": 7
    },
    {
     "cell_type": "code",
     "collapsed": false,
     "input": [
      "import numpy as np\n",
      "ans = azure.predict(Xts)\n",
      "Ypred = ans[\"Scored Labels\"].astype(int)\n",
      "print accuracy_score(Yts,Ypred)"
     ],
     "language": "python",
     "metadata": {},
     "outputs": [
      {
       "output_type": "stream",
       "stream": "stdout",
       "text": [
        "encoding data\n",
        "sending request\n",
        "loading response\n",
        "parsing response"
       ]
      },
      {
       "output_type": "stream",
       "stream": "stdout",
       "text": [
        "\n",
        "0.96\n"
       ]
      }
     ],
     "prompt_number": 8
    },
    {
     "cell_type": "code",
     "collapsed": false,
     "input": [
      "Ypred"
     ],
     "language": "python",
     "metadata": {},
     "outputs": [
      {
       "metadata": {},
       "output_type": "pyout",
       "prompt_number": 9,
       "text": [
        "0     0\n",
        "1     1\n",
        "2     1\n",
        "3     1\n",
        "4     2\n",
        "5     1\n",
        "6     2\n",
        "7     0\n",
        "8     2\n",
        "9     1\n",
        "10    0\n",
        "11    0\n",
        "12    0\n",
        "13    0\n",
        "14    0\n",
        "...\n",
        "60    0\n",
        "61    0\n",
        "62    2\n",
        "63    0\n",
        "64    2\n",
        "65    1\n",
        "66    2\n",
        "67    2\n",
        "68    0\n",
        "69    0\n",
        "70    2\n",
        "71    0\n",
        "72    2\n",
        "73    0\n",
        "74    1\n",
        "Name: Scored Labels, Length: 75, dtype: int32"
       ]
      }
     ],
     "prompt_number": 9
    }
   ],
   "metadata": {}
  }
 ]
}