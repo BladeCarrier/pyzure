{
 "metadata": {
  "name": "",
  "signature": "sha256:01fa85be704e446c77ab88b35e56f0476bed4839206c7003ac7a14da72617b8c"
 },
 "nbformat": 3,
 "nbformat_minor": 0,
 "worksheets": [
  {
   "cells": [
    {
     "cell_type": "code",
     "collapsed": false,
     "input": [
      "#\u041f\u0440\u0435\u043a\u0432\u0435\u0437\u0438\u0442\u044b: \n",
      "#selenium (pip install selenium)\n",
      "#pandas (pip install pandas)\n",
      "#\u0441\u043a\u043e\u043c\u043f\u0438\u043b\u0438\u0440\u043e\u0432\u0430\u043d\u043d\u044b\u0439 PhantomJS \u0438\u043b\u0438 \u043b\u044e\u0431\u043e\u0439 \u0442\u0438\u043f\u043e\u0432\u043e\u0439 \u0431\u0440\u0430\u0443\u0437\u0435\u0440.\n",
      "\n",
      "import selenium.webdriver as wd\n",
      "import azure_wrapper as aw\n",
      "import pandas as pd"
     ],
     "language": "python",
     "metadata": {},
     "outputs": [],
     "prompt_number": 1
    },
    {
     "cell_type": "code",
     "collapsed": false,
     "input": [
      "#split the data\n",
      "data =pd.read_csv(\"training.csv\")\n",
      "del data[\"Weight\"]\n",
      "train = data[:100000]\n",
      "test = data[100000:]\n",
      "train.to_csv(\"train\")\n",
      "test.to_csv(\"test\")\n",
      "del data, train,test\n"
     ],
     "language": "python",
     "metadata": {},
     "outputs": [],
     "prompt_number": 2
    },
    {
     "cell_type": "code",
     "collapsed": false,
     "input": [
      "mauser = wd.PhantomJS(\"phantomjs.exe\") #\u0421\u044e\u0434\u0430 \u043d\u0443\u0436\u043d\u043e \u0437\u0430\u043f\u0438\u0445\u043d\u0443\u0442\u044c \u043f\u0443\u0442\u044c \u043a \u0431\u0438\u043d\u0430\u0440\u043d\u0438\u043a\u0443 Phantom JS\n",
      "#\u0433\u0434\u0435 \u0435\u0433\u043e \u0434\u043e\u0441\u0442\u0430\u0442\u044c: http://phantomjs.org/download.html\n",
      "\n",
      "#mauser = wd.Firefox()\n",
      "#\u044d\u0442\u043e \u0431\u0443\u0434\u0435\u0442 \u0440\u0430\u0431\u043e\u0442\u0430\u0442\u044c \u043d\u0430 \u043b\u0438\u043d\u0443\u043a\u0441\u0435 \u0432 \u0440\u0435\u0436\u0438\u043c\u0435 \u043e\u0442\u043b\u0430\u0434\u043a\u0438\n",
      "\n",
      "\n",
      "#\u0430 \u044d\u0442\u043e - \u043e\u0442\u043b\u0430\u0434\u043a\u0430 \u043d\u0430 \u0432\u0438\u043d\u0434\u0435\n",
      "#from selenium.webdriver.firefox.firefox_binary import FirefoxBinary\n",
      "#firebox_binary = FirefoxBinary(\"FirefoxPortable/FirefoxPortable.exe\")\n",
      "#mauser = wd.Firefox(firefox_binary=firebox_binary)\n"
     ],
     "language": "python",
     "metadata": {},
     "outputs": [],
     "prompt_number": 3
    },
    {
     "cell_type": "code",
     "collapsed": false,
     "input": [
      "#\u0438\u043d\u0438\u0446\u0438\u0430\u043b\u0438\u0437\u0438\u0440\u0443\u0435\u043c \u0432\u0440\u0430\u043f\u043f\u0435\u0440\n",
      "mauser.set_window_size(1124, 850)\n",
      "wr = aw.wrapper(mauser)"
     ],
     "language": "python",
     "metadata": {},
     "outputs": [],
     "prompt_number": 4
    },
    {
     "cell_type": "code",
     "collapsed": false,
     "input": [
      "#\u043b\u043e\u0433\u0438\u043d\u0438\u043c\u0441\u044f\n",
      "wr.sign_in(\"sasha_panin@mail.ru\",\"243414\")"
     ],
     "language": "python",
     "metadata": {},
     "outputs": [
      {
       "output_type": "stream",
       "stream": "stdout",
       "text": [
        "signing in...\n",
        "signed in as"
       ]
      },
      {
       "output_type": "stream",
       "stream": "stdout",
       "text": [
        " sasha_panin@mail.ru\n"
       ]
      }
     ],
     "prompt_number": 5
    },
    {
     "cell_type": "code",
     "collapsed": false,
     "input": [
      "#\u0417\u0430\u0433\u0440\u0443\u0436\u0430\u0435\u043c csv-\u0448\u043a\u0443 \u0432 Azure\n",
      "wr.add_dataset_by_path(\"train\",\".csv\",change_name =True,new_name = \"higgs.csv\")"
     ],
     "language": "python",
     "metadata": {},
     "outputs": [
      {
       "output_type": "stream",
       "stream": "stdout",
       "text": [
        "adding dataset from C:\\Users\\ayanami\\Documents\\IPython Notebooks\\mining_GIMMEREALPROBLEMPLS-master\\pyzure\\train\n"
       ]
      },
      {
       "ename": "ValueError",
       "evalue": "Couldnot create dataset. The cause must be that the name isn't unique or the parameters are invalid",
       "output_type": "pyerr",
       "traceback": [
        "\u001b[1;31m---------------------------------------------------------------------------\u001b[0m\n\u001b[1;31mValueError\u001b[0m                                Traceback (most recent call last)",
        "\u001b[1;32m<ipython-input-5-aa0dcb64f50a>\u001b[0m in \u001b[0;36m<module>\u001b[1;34m()\u001b[0m\n\u001b[0;32m      1\u001b[0m \u001b[1;31m#\u0417\u0430\u0433\u0440\u0443\u0436\u0430\u0435\u043c csv-\u0448\u043a\u0443 \u0432 Azure\u001b[0m\u001b[1;33m\u001b[0m\u001b[1;33m\u001b[0m\u001b[0m\n\u001b[1;32m----> 2\u001b[1;33m \u001b[0mwr\u001b[0m\u001b[1;33m.\u001b[0m\u001b[0madd_dataset_by_path\u001b[0m\u001b[1;33m(\u001b[0m\u001b[1;34m\"train\"\u001b[0m\u001b[1;33m,\u001b[0m\u001b[1;34m\".csv\"\u001b[0m\u001b[1;33m,\u001b[0m\u001b[0mchange_name\u001b[0m \u001b[1;33m=\u001b[0m\u001b[0mTrue\u001b[0m\u001b[1;33m,\u001b[0m\u001b[0mnew_name\u001b[0m \u001b[1;33m=\u001b[0m \u001b[1;34m\"higgs.csv\"\u001b[0m\u001b[1;33m)\u001b[0m\u001b[1;33m\u001b[0m\u001b[0m\n\u001b[0m",
        "\u001b[1;32mC:\\Users\\ayanami\\Documents\\IPython Notebooks\\mining_GIMMEREALPROBLEMPLS-master\\pyzure\\azure_wrapper.pyc\u001b[0m in \u001b[0;36madd_dataset_by_path\u001b[1;34m(self, fileaddr, extension, overwrite, change_name, new_name, wait_for_upload)\u001b[0m\n\u001b[0;32m    120\u001b[0m             \u001b[1;32massert\u001b[0m \u001b[1;32mnot\u001b[0m \u001b[0mtick_btn\u001b[0m\u001b[1;33m.\u001b[0m\u001b[0mis_displayed\u001b[0m\u001b[1;33m(\u001b[0m\u001b[1;33m)\u001b[0m\u001b[1;33m\u001b[0m\u001b[0m\n\u001b[0;32m    121\u001b[0m         \u001b[1;32mexcept\u001b[0m\u001b[1;33m:\u001b[0m\u001b[1;33m\u001b[0m\u001b[0m\n\u001b[1;32m--> 122\u001b[1;33m             \u001b[1;32mraise\u001b[0m \u001b[0mValueError\u001b[0m\u001b[1;33m,\u001b[0m\u001b[1;34m\"Couldnot create dataset. The cause must be that the name isn't unique or the parameters are invalid\"\u001b[0m\u001b[1;33m\u001b[0m\u001b[0m\n\u001b[0m\u001b[0;32m    123\u001b[0m \u001b[1;33m\u001b[0m\u001b[0m\n\u001b[0;32m    124\u001b[0m         \u001b[1;32mif\u001b[0m \u001b[0mwait_for_upload\u001b[0m\u001b[1;33m:\u001b[0m\u001b[1;33m\u001b[0m\u001b[0m\n",
        "\u001b[1;31mValueError\u001b[0m: Couldnot create dataset. The cause must be that the name isn't unique or the parameters are invalid"
       ]
      }
     ],
     "prompt_number": 5
    },
    {
     "cell_type": "code",
     "collapsed": false,
     "input": [
      "#\u0421\u043e\u0437\u0434\u0430\u0451\u043c \u0438 \u043e\u0431\u0443\u0441\u0442\u0440\u0430\u0438\u0432\u0430\u0435\u043c \u0442\u0438\u043f\u043e\u0432\u043e\u0439 \u044d\u043a\u0441\u043f\u0435\u0440\u0438\u043c\u0435\u043d\u0442\n",
      "wr.create_new_experiment(\"mega_exp\")\n",
      "wr.setup_model(\"higgs.csv\",\"Label\",\"Multiclass Decision Forest\")"
     ],
     "language": "python",
     "metadata": {},
     "outputs": []
    },
    {
     "cell_type": "code",
     "collapsed": false,
     "input": [
      "#\u0417\u0430\u043f\u0443\u0441\u043a\u0430\u0435\u043c \u044d\u043a\u0441\u043f\u0435\u0440\u0438\u043c\u0435\u043d\u0442\n",
      "wr.run_experiment()"
     ],
     "language": "python",
     "metadata": {},
     "outputs": []
    },
    {
     "cell_type": "code",
     "collapsed": false,
     "input": [
      "url,api_key = wr.publish_experiment()"
     ],
     "language": "python",
     "metadata": {},
     "outputs": []
    },
    {
     "cell_type": "code",
     "collapsed": false,
     "input": [
      "print url,api_key"
     ],
     "language": "python",
     "metadata": {},
     "outputs": []
    },
    {
     "cell_type": "code",
     "collapsed": false,
     "input": [],
     "language": "python",
     "metadata": {},
     "outputs": [],
     "prompt_number": 12
    },
    {
     "cell_type": "code",
     "collapsed": false,
     "input": [
      "test=pd.read_csv(\"test\")[:100]"
     ],
     "language": "python",
     "metadata": {},
     "outputs": []
    },
    {
     "cell_type": "code",
     "collapsed": false,
     "input": [
      "res= wr.apply_service(test,url,api_key,)"
     ],
     "language": "python",
     "metadata": {},
     "outputs": []
    },
    {
     "cell_type": "code",
     "collapsed": false,
     "input": [
      "res.shape"
     ],
     "language": "python",
     "metadata": {},
     "outputs": []
    },
    {
     "cell_type": "code",
     "collapsed": false,
     "input": [],
     "language": "python",
     "metadata": {},
     "outputs": []
    },
    {
     "cell_type": "code",
     "collapsed": false,
     "input": [
      "experiment_name = \"OLOLO\"\n",
      "self = wr\n",
      "\n"
     ],
     "language": "python",
     "metadata": {},
     "outputs": [],
     "prompt_number": 7
    },
    {
     "cell_type": "code",
     "collapsed": false,
     "input": [
      "self.report(\"creating new experiment\")\n",
      "self.driver.get(\"https://studio.azureml.net/Home/\")"
     ],
     "language": "python",
     "metadata": {},
     "outputs": [
      {
       "output_type": "stream",
       "stream": "stdout",
       "text": [
        "creating new experiment\n"
       ]
      }
     ],
     "prompt_number": 8
    },
    {
     "cell_type": "code",
     "collapsed": false,
     "input": [
      "btn_new =_apply_until_passes(self.wait_load,self.driver.find_element_by_class_name,\"fxs-drawertaskbar-newbutton-img\")\n",
      "btn_new.click()\n",
      "btn_blanc = _apply_until_passes(self.wait_load, self.driver.find_element_by_class_name,\"blankExperimentCard\")\n",
      "_apply_until_passes(self.wait_load,btn_blanc.click)   \n",
      "exp_name = self.driver.find_element_by_css_selector(\"#experiment-description\")\n",
      "if experiment_name != None:\n",
      "    time.sleep(self.wait_short)\n",
      "    exp_name.send_keys(Keys.CONTROL+'a'+Keys.NULL)\n",
      "    exp_name.send_keys(experiment_name)\n",
      "else:            \n",
      "    experiment_name = exp_name.get_attribute(\"value\")\n",
      "self.report(\"created experiment with name:\",experiment_name)"
     ],
     "language": "python",
     "metadata": {},
     "outputs": []
    }
   ],
   "metadata": {}
  }
 ]
}